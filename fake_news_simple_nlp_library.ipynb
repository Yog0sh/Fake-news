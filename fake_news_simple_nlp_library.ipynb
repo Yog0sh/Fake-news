{
  "cells": [
    {
      "cell_type": "markdown",
      "metadata": {
        "id": "view-in-github",
        "colab_type": "text"
      },
      "source": [
        "<a href=\"https://colab.research.google.com/github/Yog0sh/Fake-news/blob/main/fake_news_simple_nlp_library.ipynb\" target=\"_parent\"><img src=\"https://colab.research.google.com/assets/colab-badge.svg\" alt=\"Open In Colab\"/></a>"
      ]
    },
    {
      "cell_type": "code",
      "execution_count": null,
      "id": "7ab28330",
      "metadata": {
        "_cell_guid": "b1076dfc-b9ad-4769-8c92-a6c4dae69d19",
        "_uuid": "8f2839f25d086af736a60e9eeb907d3b93b6e0e5",
        "execution": {
          "iopub.execute_input": "2023-10-03T21:57:22.215614Z",
          "iopub.status.busy": "2023-10-03T21:57:22.215053Z",
          "iopub.status.idle": "2023-10-03T21:57:22.480116Z",
          "shell.execute_reply": "2023-10-03T21:57:22.479131Z"
        },
        "papermill": {
          "duration": 0.271928,
          "end_time": "2023-10-03T21:57:22.482055",
          "exception": false,
          "start_time": "2023-10-03T21:57:22.210127",
          "status": "completed"
        },
        "tags": [],
        "id": "7ab28330"
      },
      "outputs": [],
      "source": [
        "import pandas as pd"
      ]
    },
    {
      "cell_type": "code",
      "execution_count": null,
      "id": "09d76bd1",
      "metadata": {
        "execution": {
          "iopub.execute_input": "2023-10-03T21:57:22.490410Z",
          "iopub.status.busy": "2023-10-03T21:57:22.490075Z",
          "iopub.status.idle": "2023-10-03T21:57:25.281220Z",
          "shell.execute_reply": "2023-10-03T21:57:25.280367Z"
        },
        "papermill": {
          "duration": 2.796597,
          "end_time": "2023-10-03T21:57:25.283292",
          "exception": false,
          "start_time": "2023-10-03T21:57:22.486695",
          "status": "completed"
        },
        "tags": [],
        "id": "09d76bd1"
      },
      "outputs": [],
      "source": [
        "not_fake = pd.read_csv(\"../input/fake-and-real-news-dataset/True.csv\")\n",
        "fake = pd.read_csv(\"../input/fake-and-real-news-dataset/Fake.csv\")"
      ]
    },
    {
      "cell_type": "code",
      "execution_count": null,
      "id": "084297d1",
      "metadata": {
        "execution": {
          "iopub.execute_input": "2023-10-03T21:57:25.289743Z",
          "iopub.status.busy": "2023-10-03T21:57:25.289425Z",
          "iopub.status.idle": "2023-10-03T21:57:25.301447Z",
          "shell.execute_reply": "2023-10-03T21:57:25.300205Z"
        },
        "papermill": {
          "duration": 0.017401,
          "end_time": "2023-10-03T21:57:25.303431",
          "exception": false,
          "start_time": "2023-10-03T21:57:25.286030",
          "status": "completed"
        },
        "tags": [],
        "id": "084297d1"
      },
      "outputs": [],
      "source": [
        "X = not_fake[\"title\"].tolist() + fake[\"title\"].tolist()\n",
        "y = [0] * len(not_fake) + [1] * len(fake)"
      ]
    },
    {
      "cell_type": "code",
      "execution_count": null,
      "id": "66757e98",
      "metadata": {
        "execution": {
          "iopub.execute_input": "2023-10-03T21:57:25.310120Z",
          "iopub.status.busy": "2023-10-03T21:57:25.309859Z",
          "iopub.status.idle": "2023-10-03T21:57:26.567723Z",
          "shell.execute_reply": "2023-10-03T21:57:26.566670Z"
        },
        "papermill": {
          "duration": 1.263554,
          "end_time": "2023-10-03T21:57:26.569864",
          "exception": false,
          "start_time": "2023-10-03T21:57:25.306310",
          "status": "completed"
        },
        "tags": [],
        "id": "66757e98"
      },
      "outputs": [],
      "source": [
        "from sklearn.model_selection import train_test_split"
      ]
    },
    {
      "cell_type": "code",
      "execution_count": null,
      "id": "047b7eed",
      "metadata": {
        "execution": {
          "iopub.execute_input": "2023-10-03T21:57:26.576708Z",
          "iopub.status.busy": "2023-10-03T21:57:26.576370Z",
          "iopub.status.idle": "2023-10-03T21:57:26.598170Z",
          "shell.execute_reply": "2023-10-03T21:57:26.596855Z"
        },
        "papermill": {
          "duration": 0.027832,
          "end_time": "2023-10-03T21:57:26.600531",
          "exception": false,
          "start_time": "2023-10-03T21:57:26.572699",
          "status": "completed"
        },
        "tags": [],
        "id": "047b7eed"
      },
      "outputs": [],
      "source": [
        "X_train, X_test, y_train, y_test = train_test_split(X, y, test_size=0.2)"
      ]
    },
    {
      "cell_type": "code",
      "execution_count": null,
      "id": "23009ba9",
      "metadata": {
        "execution": {
          "iopub.execute_input": "2023-10-03T21:57:26.607188Z",
          "iopub.status.busy": "2023-10-03T21:57:26.606893Z",
          "iopub.status.idle": "2023-10-03T21:57:43.118938Z",
          "shell.execute_reply": "2023-10-03T21:57:43.118224Z"
        },
        "papermill": {
          "duration": 16.517511,
          "end_time": "2023-10-03T21:57:43.120951",
          "exception": false,
          "start_time": "2023-10-03T21:57:26.603440",
          "status": "completed"
        },
        "tags": [],
        "id": "23009ba9",
        "outputId": "58e2caeb-f604-4260-cf28-3196beed1c22"
      },
      "outputs": [
        {
          "name": "stdout",
          "output_type": "stream",
          "text": [
            "Collecting simple_nlp_library\r\n",
            "  Downloading simple_nlp_library-3.0.0-py3-none-any.whl (69.3 MB)\r\n",
            "\u001b[2K     \u001b[90m━━━━━━━━━━━━━━━━━━━━━━━━━━━━━━━━━━━━━━━━\u001b[0m \u001b[32m69.3/69.3 MB\u001b[0m \u001b[31m7.2 MB/s\u001b[0m eta \u001b[36m0:00:00\u001b[0m\r\n",
            "\u001b[?25hInstalling collected packages: simple_nlp_library\r\n",
            "Successfully installed simple_nlp_library-3.0.0\r\n"
          ]
        }
      ],
      "source": [
        "!pip install simple_nlp_library"
      ]
    },
    {
      "cell_type": "code",
      "execution_count": null,
      "id": "5d34e33a",
      "metadata": {
        "execution": {
          "iopub.execute_input": "2023-10-03T21:57:43.139317Z",
          "iopub.status.busy": "2023-10-03T21:57:43.139034Z",
          "iopub.status.idle": "2023-10-03T21:57:43.147225Z",
          "shell.execute_reply": "2023-10-03T21:57:43.146208Z"
        },
        "papermill": {
          "duration": 0.020196,
          "end_time": "2023-10-03T21:57:43.149412",
          "exception": false,
          "start_time": "2023-10-03T21:57:43.129216",
          "status": "completed"
        },
        "tags": [],
        "id": "5d34e33a"
      },
      "outputs": [],
      "source": [
        "from simple_nlp_library import preprocessing, embeddings"
      ]
    },
    {
      "cell_type": "code",
      "execution_count": null,
      "id": "712f4ce5",
      "metadata": {
        "execution": {
          "iopub.execute_input": "2023-10-03T21:57:43.166678Z",
          "iopub.status.busy": "2023-10-03T21:57:43.166322Z",
          "iopub.status.idle": "2023-10-03T21:57:47.566680Z",
          "shell.execute_reply": "2023-10-03T21:57:47.565737Z"
        },
        "papermill": {
          "duration": 4.411272,
          "end_time": "2023-10-03T21:57:47.568823",
          "exception": false,
          "start_time": "2023-10-03T21:57:43.157551",
          "status": "completed"
        },
        "tags": [],
        "id": "712f4ce5"
      },
      "outputs": [],
      "source": [
        "stop_words = preprocessing.stop_words()\n",
        "vectors = embeddings.vectors()"
      ]
    },
    {
      "cell_type": "code",
      "execution_count": null,
      "id": "e85b480e",
      "metadata": {
        "execution": {
          "iopub.execute_input": "2023-10-03T21:57:47.587393Z",
          "iopub.status.busy": "2023-10-03T21:57:47.587039Z",
          "iopub.status.idle": "2023-10-03T21:57:54.335630Z",
          "shell.execute_reply": "2023-10-03T21:57:54.334776Z"
        },
        "papermill": {
          "duration": 6.759843,
          "end_time": "2023-10-03T21:57:54.337291",
          "exception": false,
          "start_time": "2023-10-03T21:57:47.577448",
          "status": "completed"
        },
        "tags": [],
        "id": "e85b480e"
      },
      "outputs": [],
      "source": [
        "X_train_vec = [embeddings.tokens_vector(vectors, preprocessing.semantic_tokens(stop_words, x)) for x in X_train]\n",
        "X_test_vec = [embeddings.tokens_vector(vectors, preprocessing.semantic_tokens(stop_words, x)) for x in X_test]"
      ]
    },
    {
      "cell_type": "code",
      "execution_count": null,
      "id": "56eda54f",
      "metadata": {
        "execution": {
          "iopub.execute_input": "2023-10-03T21:57:54.353984Z",
          "iopub.status.busy": "2023-10-03T21:57:54.353701Z",
          "iopub.status.idle": "2023-10-03T21:57:54.380105Z",
          "shell.execute_reply": "2023-10-03T21:57:54.378762Z"
        },
        "papermill": {
          "duration": 0.037409,
          "end_time": "2023-10-03T21:57:54.382577",
          "exception": false,
          "start_time": "2023-10-03T21:57:54.345168",
          "status": "completed"
        },
        "tags": [],
        "id": "56eda54f"
      },
      "outputs": [],
      "source": [
        "from sklearn.neural_network import MLPClassifier"
      ]
    },
    {
      "cell_type": "code",
      "execution_count": null,
      "id": "fcbfe563",
      "metadata": {
        "execution": {
          "iopub.execute_input": "2023-10-03T21:57:54.400643Z",
          "iopub.status.busy": "2023-10-03T21:57:54.400283Z",
          "iopub.status.idle": "2023-10-03T21:57:59.277564Z",
          "shell.execute_reply": "2023-10-03T21:57:59.276714Z"
        },
        "papermill": {
          "duration": 4.888154,
          "end_time": "2023-10-03T21:57:59.279326",
          "exception": false,
          "start_time": "2023-10-03T21:57:54.391172",
          "status": "completed"
        },
        "tags": [],
        "id": "fcbfe563",
        "outputId": "134ea8c5-a8eb-468f-8ca1-505b95a70df2"
      },
      "outputs": [
        {
          "data": {
            "text/html": [
              "<style>#sk-container-id-1 {color: black;background-color: white;}#sk-container-id-1 pre{padding: 0;}#sk-container-id-1 div.sk-toggleable {background-color: white;}#sk-container-id-1 label.sk-toggleable__label {cursor: pointer;display: block;width: 100%;margin-bottom: 0;padding: 0.3em;box-sizing: border-box;text-align: center;}#sk-container-id-1 label.sk-toggleable__label-arrow:before {content: \"▸\";float: left;margin-right: 0.25em;color: #696969;}#sk-container-id-1 label.sk-toggleable__label-arrow:hover:before {color: black;}#sk-container-id-1 div.sk-estimator:hover label.sk-toggleable__label-arrow:before {color: black;}#sk-container-id-1 div.sk-toggleable__content {max-height: 0;max-width: 0;overflow: hidden;text-align: left;background-color: #f0f8ff;}#sk-container-id-1 div.sk-toggleable__content pre {margin: 0.2em;color: black;border-radius: 0.25em;background-color: #f0f8ff;}#sk-container-id-1 input.sk-toggleable__control:checked~div.sk-toggleable__content {max-height: 200px;max-width: 100%;overflow: auto;}#sk-container-id-1 input.sk-toggleable__control:checked~label.sk-toggleable__label-arrow:before {content: \"▾\";}#sk-container-id-1 div.sk-estimator input.sk-toggleable__control:checked~label.sk-toggleable__label {background-color: #d4ebff;}#sk-container-id-1 div.sk-label input.sk-toggleable__control:checked~label.sk-toggleable__label {background-color: #d4ebff;}#sk-container-id-1 input.sk-hidden--visually {border: 0;clip: rect(1px 1px 1px 1px);clip: rect(1px, 1px, 1px, 1px);height: 1px;margin: -1px;overflow: hidden;padding: 0;position: absolute;width: 1px;}#sk-container-id-1 div.sk-estimator {font-family: monospace;background-color: #f0f8ff;border: 1px dotted black;border-radius: 0.25em;box-sizing: border-box;margin-bottom: 0.5em;}#sk-container-id-1 div.sk-estimator:hover {background-color: #d4ebff;}#sk-container-id-1 div.sk-parallel-item::after {content: \"\";width: 100%;border-bottom: 1px solid gray;flex-grow: 1;}#sk-container-id-1 div.sk-label:hover label.sk-toggleable__label {background-color: #d4ebff;}#sk-container-id-1 div.sk-serial::before {content: \"\";position: absolute;border-left: 1px solid gray;box-sizing: border-box;top: 0;bottom: 0;left: 50%;z-index: 0;}#sk-container-id-1 div.sk-serial {display: flex;flex-direction: column;align-items: center;background-color: white;padding-right: 0.2em;padding-left: 0.2em;position: relative;}#sk-container-id-1 div.sk-item {position: relative;z-index: 1;}#sk-container-id-1 div.sk-parallel {display: flex;align-items: stretch;justify-content: center;background-color: white;position: relative;}#sk-container-id-1 div.sk-item::before, #sk-container-id-1 div.sk-parallel-item::before {content: \"\";position: absolute;border-left: 1px solid gray;box-sizing: border-box;top: 0;bottom: 0;left: 50%;z-index: -1;}#sk-container-id-1 div.sk-parallel-item {display: flex;flex-direction: column;z-index: 1;position: relative;background-color: white;}#sk-container-id-1 div.sk-parallel-item:first-child::after {align-self: flex-end;width: 50%;}#sk-container-id-1 div.sk-parallel-item:last-child::after {align-self: flex-start;width: 50%;}#sk-container-id-1 div.sk-parallel-item:only-child::after {width: 0;}#sk-container-id-1 div.sk-dashed-wrapped {border: 1px dashed gray;margin: 0 0.4em 0.5em 0.4em;box-sizing: border-box;padding-bottom: 0.4em;background-color: white;}#sk-container-id-1 div.sk-label label {font-family: monospace;font-weight: bold;display: inline-block;line-height: 1.2em;}#sk-container-id-1 div.sk-label-container {text-align: center;}#sk-container-id-1 div.sk-container {/* jupyter's `normalize.less` sets `[hidden] { display: none; }` but bootstrap.min.css set `[hidden] { display: none !important; }` so we also need the `!important` here to be able to override the default hidden behavior on the sphinx rendered scikit-learn.org. See: https://github.com/scikit-learn/scikit-learn/issues/21755 */display: inline-block !important;position: relative;}#sk-container-id-1 div.sk-text-repr-fallback {display: none;}</style><div id=\"sk-container-id-1\" class=\"sk-top-container\"><div class=\"sk-text-repr-fallback\"><pre>MLPClassifier(early_stopping=True, hidden_layer_sizes=25)</pre><b>In a Jupyter environment, please rerun this cell to show the HTML representation or trust the notebook. <br />On GitHub, the HTML representation is unable to render, please try loading this page with nbviewer.org.</b></div><div class=\"sk-container\" hidden><div class=\"sk-item\"><div class=\"sk-estimator sk-toggleable\"><input class=\"sk-toggleable__control sk-hidden--visually\" id=\"sk-estimator-id-1\" type=\"checkbox\" checked><label for=\"sk-estimator-id-1\" class=\"sk-toggleable__label sk-toggleable__label-arrow\">MLPClassifier</label><div class=\"sk-toggleable__content\"><pre>MLPClassifier(early_stopping=True, hidden_layer_sizes=25)</pre></div></div></div></div></div>"
            ],
            "text/plain": [
              "MLPClassifier(early_stopping=True, hidden_layer_sizes=25)"
            ]
          },
          "execution_count": 11,
          "metadata": {},
          "output_type": "execute_result"
        }
      ],
      "source": [
        "clf = MLPClassifier(hidden_layer_sizes=(25), early_stopping=True)\n",
        "clf.fit(X_train_vec, y_train)"
      ]
    },
    {
      "cell_type": "code",
      "execution_count": null,
      "id": "11a8c95e",
      "metadata": {
        "execution": {
          "iopub.execute_input": "2023-10-03T21:57:59.307099Z",
          "iopub.status.busy": "2023-10-03T21:57:59.306780Z",
          "iopub.status.idle": "2023-10-03T21:57:59.310337Z",
          "shell.execute_reply": "2023-10-03T21:57:59.309743Z"
        },
        "papermill": {
          "duration": 0.020105,
          "end_time": "2023-10-03T21:57:59.312989",
          "exception": false,
          "start_time": "2023-10-03T21:57:59.292884",
          "status": "completed"
        },
        "tags": [],
        "id": "11a8c95e"
      },
      "outputs": [],
      "source": [
        "import matplotlib.pyplot as plt"
      ]
    },
    {
      "cell_type": "code",
      "execution_count": null,
      "id": "d5ba776a",
      "metadata": {
        "execution": {
          "iopub.execute_input": "2023-10-03T21:57:59.339265Z",
          "iopub.status.busy": "2023-10-03T21:57:59.338971Z",
          "iopub.status.idle": "2023-10-03T21:57:59.534933Z",
          "shell.execute_reply": "2023-10-03T21:57:59.533948Z"
        },
        "papermill": {
          "duration": 0.210996,
          "end_time": "2023-10-03T21:57:59.536563",
          "exception": false,
          "start_time": "2023-10-03T21:57:59.325567",
          "status": "completed"
        },
        "tags": [],
        "id": "d5ba776a",
        "outputId": "86ee5a8b-1a3f-4f68-ca06-5faad8be4932"
      },
      "outputs": [
        {
          "data": {
            "text/plain": [
              "[<matplotlib.lines.Line2D at 0x7aa26f0901f0>]"
            ]
          },
          "execution_count": 13,
          "metadata": {},
          "output_type": "execute_result"
        },
        {
          "data": {
            "image/png": "[encoded data removed]",
            "text/plain": [
              "<Figure size 640x480 with 1 Axes>"
            ]
          },
          "metadata": {},
          "output_type": "display_data"
        }
      ],
      "source": [
        "plt.plot(clf.validation_scores_)"
      ]
    },
    {
      "cell_type": "code",
      "execution_count": null,
      "id": "ac0cbd29",
      "metadata": {
        "execution": {
          "iopub.execute_input": "2023-10-03T21:57:59.556081Z",
          "iopub.status.busy": "2023-10-03T21:57:59.555090Z",
          "iopub.status.idle": "2023-10-03T21:57:59.559196Z",
          "shell.execute_reply": "2023-10-03T21:57:59.558599Z"
        },
        "papermill": {
          "duration": 0.015987,
          "end_time": "2023-10-03T21:57:59.561326",
          "exception": false,
          "start_time": "2023-10-03T21:57:59.545339",
          "status": "completed"
        },
        "tags": [],
        "id": "ac0cbd29"
      },
      "outputs": [],
      "source": [
        "from sklearn.metrics import accuracy_score"
      ]
    },
    {
      "cell_type": "code",
      "execution_count": null,
      "id": "269e856f",
      "metadata": {
        "execution": {
          "iopub.execute_input": "2023-10-03T21:57:59.580268Z",
          "iopub.status.busy": "2023-10-03T21:57:59.579405Z",
          "iopub.status.idle": "2023-10-03T21:57:59.705032Z",
          "shell.execute_reply": "2023-10-03T21:57:59.704317Z"
        },
        "papermill": {
          "duration": 0.136529,
          "end_time": "2023-10-03T21:57:59.706683",
          "exception": false,
          "start_time": "2023-10-03T21:57:59.570154",
          "status": "completed"
        },
        "tags": [],
        "id": "269e856f",
        "outputId": "44a6604f-7c12-49bc-800b-8e3a6acdb294"
      },
      "outputs": [
        {
          "data": {
            "text/plain": [
              "0.9032796926332202"
            ]
          },
          "execution_count": 15,
          "metadata": {},
          "output_type": "execute_result"
        }
      ],
      "source": [
        "accuracy_score(y_train, clf.predict(X_train_vec))"
      ]
    },
    {
      "cell_type": "code",
      "execution_count": null,
      "id": "675ecdb6",
      "metadata": {
        "execution": {
          "iopub.execute_input": "2023-10-03T21:57:59.735566Z",
          "iopub.status.busy": "2023-10-03T21:57:59.734494Z",
          "iopub.status.idle": "2023-10-03T21:57:59.793890Z",
          "shell.execute_reply": "2023-10-03T21:57:59.793210Z"
        },
        "papermill": {
          "duration": 0.075496,
          "end_time": "2023-10-03T21:57:59.795719",
          "exception": false,
          "start_time": "2023-10-03T21:57:59.720223",
          "status": "completed"
        },
        "tags": [],
        "id": "675ecdb6",
        "outputId": "42b0127a-79f0-442c-d0f4-c380a1a3239a"
      },
      "outputs": [
        {
          "data": {
            "text/plain": [
              "0.8887527839643653"
            ]
          },
          "execution_count": 16,
          "metadata": {},
          "output_type": "execute_result"
        }
      ],
      "source": [
        "accuracy_score(y_test, clf.predict(X_test_vec))"
      ]
    }
  ],
  "metadata": {
    "kernelspec": {
      "display_name": "Python 3",
      "language": "python",
      "name": "python3"
    },
    "language_info": {
      "codemirror_mode": {
        "name": "ipython",
        "version": 3
      },
      "file_extension": ".py",
      "mimetype": "text/x-python",
      "name": "python",
      "nbconvert_exporter": "python",
      "pygments_lexer": "ipython3",
      "version": "3.10.12"
    },
    "papermill": {
      "default_parameters": {},
      "duration": 41.368351,
      "end_time": "2023-10-03T21:58:01.039049",
      "environment_variables": {},
      "exception": null,
      "input_path": "__notebook__.ipynb",
      "output_path": "__notebook__.ipynb",
      "parameters": {},
      "start_time": "2023-10-03T21:57:19.670698",
      "version": "2.4.0"
    },
    "colab": {
      "provenance": [],
      "include_colab_link": true
    }
  },
  "nbformat": 4,
  "nbformat_minor": 5
}